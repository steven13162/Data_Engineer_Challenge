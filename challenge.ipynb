{
 "cells": [
  {
   "cell_type": "markdown",
   "metadata": {},
   "source": [
    "Teniendo en cuenta que es un archivo JSON pense inicialmente hacer una lectura del mismo mediante la libreria ujson o la libreria json; debido a que estan enfocadas netamente en la lectura de archivos y por tanto el rendimiento en la lectura deberia ser mejor a usar otras librerias. No obstante, al avanzar e intentar realizar las agrupaciones de los datos según se requeria me parecio más sencillo trabajar con pandas. Considere en usar la libreria pyspark para el procesamiento debido a que en un entorno de procesamiento distribuido es mucho mejor, pero en este caso estoy trabajando sobre mi computador y tuve algunos problemas de compatibilidad con la instalación por tanto obte por usar pandas"
   ]
  },
  {
   "cell_type": "markdown",
   "metadata": {},
   "source": [
    "La logica implementada en los ejercicios es muy semejante, un aspecto clave en el que enfoque el ejercicio fue la lectura de los archivos, inicialmente implemente dos logicas diferentes pero al realizar varias pruebas de rendimiento opte por realizar la lectura del archivo JSON mediante pandas, pero por bloques con el fin de no generar un consumo de excesivo de memoria y tranversalmente extraer la información requerida para cada ejercicio\n",
    "\n",
    "Las mejoras que podrian implementarse para este ejercicio podrian ser las siguientes:\n",
    "\n",
    "\n",
    "- Implementarlo en un entorno distribuido donde se pueda hacer un procesamiento en paralelo de los archivos haciendo uso de spark\n",
    "- Dependiendo el entorno y sus recursos se podria jugar la variable 'chunksize' con el fin de encontrar un valor que le de un rendimiento optimo al entorno\n",
    "- En caso de que el objetivo sea almacenar la información y s requiera consumir la información de una base de datos no relacional o de un api, se podria implementar una tarea programada bajo otro lenguaje de programación como .net donde se extraiga la info y se generen las transformaciones"
   ]
  },
  {
   "cell_type": "code",
   "execution_count": 2,
   "metadata": {},
   "outputs": [
    {
     "data": {
      "text/plain": [
       "array([[datetime.date(2021, 2, 12), 'RanbirS00614606'],\n",
       "       [datetime.date(2021, 2, 13), 'MaanDee08215437'],\n",
       "       [datetime.date(2021, 2, 17), 'RaaJVinderkaur'],\n",
       "       [datetime.date(2021, 2, 16), 'jot__b'],\n",
       "       [datetime.date(2021, 2, 14), 'rebelpacifist'],\n",
       "       [datetime.date(2021, 2, 18), 'neetuanjle_nitu'],\n",
       "       [datetime.date(2021, 2, 15), 'jot__b'],\n",
       "       [datetime.date(2021, 2, 20), 'MangalJ23056160'],\n",
       "       [datetime.date(2021, 2, 23), 'Surrypuria'],\n",
       "       [datetime.date(2021, 2, 19), 'Preetm91']], dtype=object)"
      ]
     },
     "execution_count": 2,
     "metadata": {},
     "output_type": "execute_result"
    }
   ],
   "source": [
    "file_path = \"farmers-protest-tweets-2021-2-4.json\"\n",
    "\n",
    "from q1_memory import q1_memory\n",
    "q1_memory(file_path)"
   ]
  },
  {
   "cell_type": "code",
   "execution_count": 3,
   "metadata": {},
   "outputs": [
    {
     "data": {
      "text/plain": [
       "array([[datetime.date(2021, 2, 12), 'RanbirS00614606'],\n",
       "       [datetime.date(2021, 2, 13), 'MaanDee08215437'],\n",
       "       [datetime.date(2021, 2, 17), 'RaaJVinderkaur'],\n",
       "       [datetime.date(2021, 2, 16), 'jot__b'],\n",
       "       [datetime.date(2021, 2, 14), 'rebelpacifist'],\n",
       "       [datetime.date(2021, 2, 18), 'neetuanjle_nitu'],\n",
       "       [datetime.date(2021, 2, 15), 'jot__b'],\n",
       "       [datetime.date(2021, 2, 20), 'MangalJ23056160'],\n",
       "       [datetime.date(2021, 2, 23), 'Surrypuria'],\n",
       "       [datetime.date(2021, 2, 19), 'Preetm91']], dtype=object)"
      ]
     },
     "execution_count": 3,
     "metadata": {},
     "output_type": "execute_result"
    }
   ],
   "source": [
    "from q1_time import q1_time\n",
    "q1_time(file_path)"
   ]
  },
  {
   "cell_type": "code",
   "execution_count": 4,
   "metadata": {},
   "outputs": [
    {
     "data": {
      "text/plain": [
       "array([['🙏', 5049],\n",
       "       ['😂', 3072],\n",
       "       ['🚜', 2972],\n",
       "       ['🌾', 2182],\n",
       "       ['🇮🇳', 2086],\n",
       "       ['🤣', 1668],\n",
       "       ['✊', 1651],\n",
       "       ['❤️', 1382],\n",
       "       ['🙏🏻', 1317],\n",
       "       ['💚', 1040]], dtype=object)"
      ]
     },
     "execution_count": 4,
     "metadata": {},
     "output_type": "execute_result"
    }
   ],
   "source": [
    "from q2_memory import q2_memory\n",
    "q2_memory(file_path)"
   ]
  },
  {
   "cell_type": "code",
   "execution_count": 5,
   "metadata": {},
   "outputs": [
    {
     "data": {
      "text/plain": [
       "array([['🙏', 5049],\n",
       "       ['😂', 3072],\n",
       "       ['🚜', 2972],\n",
       "       ['🌾', 2182],\n",
       "       ['🇮🇳', 2086],\n",
       "       ['🤣', 1668],\n",
       "       ['✊', 1651],\n",
       "       ['❤️', 1382],\n",
       "       ['🙏🏻', 1317],\n",
       "       ['💚', 1040]], dtype=object)"
      ]
     },
     "execution_count": 5,
     "metadata": {},
     "output_type": "execute_result"
    }
   ],
   "source": [
    "from q2_time import q2_time\n",
    "q2_time(file_path)"
   ]
  },
  {
   "cell_type": "code",
   "execution_count": 6,
   "metadata": {},
   "outputs": [
    {
     "data": {
      "text/plain": [
       "array([['loyal90901246', 2478.0],\n",
       "       ['_gurviir', 1826.0],\n",
       "       ['neetuanjle_nitu', 1792.0],\n",
       "       ['JaiHind58236291', 1696.0],\n",
       "       ['preetysaini321', 927.0],\n",
       "       ['JoyJ69957841', 915.0],\n",
       "       ['Gurpreetd86', 842.0],\n",
       "       ['jot__b', 839.0],\n",
       "       ['mani262002', 777.0],\n",
       "       ['ScitaramSays', 762.0]], dtype=object)"
      ]
     },
     "execution_count": 6,
     "metadata": {},
     "output_type": "execute_result"
    }
   ],
   "source": [
    "from q3_memory import q3_memory\n",
    "q3_memory(file_path)"
   ]
  },
  {
   "cell_type": "code",
   "execution_count": 7,
   "metadata": {},
   "outputs": [
    {
     "data": {
      "text/plain": [
       "array([['loyal90901246', 2478.0],\n",
       "       ['_gurviir', 1826.0],\n",
       "       ['neetuanjle_nitu', 1792.0],\n",
       "       ['JaiHind58236291', 1696.0],\n",
       "       ['preetysaini321', 927.0],\n",
       "       ['JoyJ69957841', 915.0],\n",
       "       ['Gurpreetd86', 842.0],\n",
       "       ['jot__b', 839.0],\n",
       "       ['mani262002', 777.0],\n",
       "       ['ScitaramSays', 762.0]], dtype=object)"
      ]
     },
     "execution_count": 7,
     "metadata": {},
     "output_type": "execute_result"
    }
   ],
   "source": [
    "\n",
    "from q3_time import q3_time\n",
    "q3_time(file_path)"
   ]
  }
 ],
 "metadata": {
  "kernelspec": {
   "display_name": "Python 3 (ipykernel)",
   "language": "python",
   "name": "python3"
  },
  "language_info": {
   "codemirror_mode": {
    "name": "ipython",
    "version": 3
   },
   "file_extension": ".py",
   "mimetype": "text/x-python",
   "name": "python",
   "nbconvert_exporter": "python",
   "pygments_lexer": "ipython3",
   "version": "3.11.7"
  },
  "orig_nbformat": 4
 },
 "nbformat": 4,
 "nbformat_minor": 2
}
