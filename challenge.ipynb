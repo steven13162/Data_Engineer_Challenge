{
 "cells": [
  {
   "cell_type": "markdown",
   "metadata": {},
   "source": [
    "En este archivo puedes escribir lo que estimes conveniente. Te recomendamos detallar tu solución y todas las suposiciones que estás considerando. Aquí puedes ejecutar las funciones que definiste en los otros archivos de la carpeta src, medir el tiempo, memoria, etc."
   ]
  },
  {
   "cell_type": "code",
   "execution_count": null,
   "metadata": {},
   "outputs": [],
   "source": [
    "file_path = \"farmers-protest-tweets-2021-2-4.json\""
   ]
  },
  {
   "cell_type": "markdown",
   "metadata": {},
   "source": [
    "Teniendo en cuenta que es un archivo JSON pense inicialmente hacer una lectura del mismo mediante la libreria ujson o la libreria json; debido a que estan enfocadas netamente en la lectura de archivos y por tanto el rendimiento en la lectura deberia ser mejor a usar otras librerias. No obstante, al avanzar e intentar realizar las agrupaciones de los datos según se requeria me parecio más sencillo trabajar con pandas. Considere en usar la libreria pyspark para el procesamiento debido a que en un entorno de procesamiento distribuido es mucho mejor, pero en este caso estoy trabajando sobre mi computador y tuve algunos problemas de compatibilidad con la instalación por tanto obte por usar pandas"
   ]
  },
  {
   "cell_type": "markdown",
   "metadata": {},
   "source": [
    "Pandas tiene un problema en la lectura y es el uso de memoria al leer el archivo JSON, no obstante, se puede resolver implementando una lectura por bloques. Los tiempos de ejecución y el consumo de recursos del codigo para el reto N°1 fueron:\n",
    "\n",
    "Ejercicio N#1\n",
    "\n",
    "q1_time:   6.78 Segundos,  3GB\n",
    "q1_memory: 7.40 Segundos,  1,4GB\n",
    "\n",
    "La diferencia en memoria y en tiempo se debe a la manera en la que se hizo la lectura del archivo, en una se leyo todo el archivo y en el otro caso la lectura fue por bloques, por lo cual se redujo a menos de la mitad el consumo de memoria"
   ]
  },
  {
   "cell_type": "code",
   "execution_count": null,
   "metadata": {},
   "outputs": [],
   "source": [
    "file_path = \"farmers-protest-tweets-2021-2-4.json\"\n",
    "\n",
    "from q1_memory import q1_memory\n",
    "q1_memory(file_path)"
   ]
  },
  {
   "cell_type": "code",
   "execution_count": null,
   "metadata": {},
   "outputs": [],
   "source": [
    "from q1_time import q1_time\n",
    "q1_time(file_path)"
   ]
  }
 ],
 "metadata": {
  "language_info": {
   "name": "python"
  },
  "orig_nbformat": 4
 },
 "nbformat": 4,
 "nbformat_minor": 2
}
